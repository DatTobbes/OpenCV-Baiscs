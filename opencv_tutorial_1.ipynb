{
 "cells": [
  {
   "cell_type": "markdown",
   "metadata": {
    "extensions": {
     "jupyter_dashboards": {
      "version": 1,
      "views": {
       "grid_default": {
        "col": 0,
        "height": 4,
        "hidden": false,
        "row": 0,
        "width": 4
       },
       "report_default": {}
      }
     }
    }
   },
   "source": [
    "# OpenCV Tutorial\n",
    "\n",
    "This tutorial is intended to provide an easy start for opencv with Python. At the beginning, basic operations for opening and editing are described!"
   ]
  },
  {
   "cell_type": "code",
   "execution_count": null,
   "metadata": {
    "extensions": {
     "jupyter_dashboards": {
      "version": 1,
      "views": {
       "grid_default": {
        "hidden": true
       },
       "report_default": {}
      }
     }
    }
   },
   "outputs": [],
   "source": [
    "import cv2\n",
    "import numpy as np\n",
    "import matplotlib.pyplot as plt\n",
    "%matplotlib inline  \n",
    "import os"
   ]
  },
  {
   "cell_type": "code",
   "execution_count": null,
   "metadata": {
    "extensions": {
     "jupyter_dashboards": {
      "version": 1,
      "views": {
       "grid_default": {
        "hidden": true
       },
       "report_default": {}
      }
     }
    }
   },
   "outputs": [],
   "source": [
    "def plot_image(image):\n",
    "    fig = plt.figure(figsize=(10, 10))\n",
    "\n",
    "    image = cv2.cvtColor(image, cv2.COLOR_BGR2RGB)\n",
    "    plt.imshow(image)\n",
    "    plt.show()\n"
   ]
  },
  {
   "cell_type": "code",
   "execution_count": null,
   "metadata": {
    "extensions": {
     "jupyter_dashboards": {
      "version": 1,
      "views": {
       "grid_default": {
        "hidden": true
       },
       "report_default": {}
      }
     }
    }
   },
   "outputs": [],
   "source": [
    "IMAGE_DIR = './images/'"
   ]
  },
  {
   "cell_type": "markdown",
   "metadata": {
    "extensions": {
     "jupyter_dashboards": {
      "version": 1,
      "views": {
       "grid_default": {
        "col": 4,
        "height": 4,
        "hidden": false,
        "row": 0,
        "width": 4
       },
       "report_default": {}
      }
     }
    }
   },
   "source": [
    "## Basic image operations"
   ]
  },
  {
   "cell_type": "markdown",
   "metadata": {
    "extensions": {
     "jupyter_dashboards": {
      "version": 1,
      "views": {
       "grid_default": {
        "col": 0,
        "height": 6,
        "hidden": false,
        "row": 4,
        "width": 12
       },
       "report_default": {}
      }
     }
    }
   },
   "source": [
    "To open a Image use **cv2.imread(image_path,color_mode)**  First argument is image path, even if path is wrong, there wont be an error. \n",
    "Second argument specifies in what color space image should be loaded\n",
    "*    **0 : cv2.IMREAD_COLOR** : Loads a color image. Any transparency of image will be neglected. It is the default flag.\n",
    "*    **1 : cv2.IMREAD_GRAYSCALE** : Loads image in grayscale mode\n",
    "*    **-1: cv2.IMREAD_UNCHANGED** : Loads image as such including alpha channel"
   ]
  },
  {
   "cell_type": "code",
   "execution_count": null,
   "metadata": {
    "extensions": {
     "jupyter_dashboards": {
      "version": 1,
      "views": {
       "grid_default": {
        "hidden": true
       },
       "report_default": {}
      }
     }
    }
   },
   "outputs": [],
   "source": [
    "#load as rgb\n",
    "img = cv2.imread(os.path.join(IMAGE_DIR,'positive-possum.png'),1)"
   ]
  },
  {
   "cell_type": "markdown",
   "metadata": {},
   "source": [
    "Be carefull, OpenCV reads images as BGR not RGB, therefor you have to convert the colorspace. Use **cv2.cvtColor(input_img, flag)**  \n",
    "The flag determines the conversion. Useful is **cv2.COLOR_BGR2RGB**, **cv2.COLOR_BGR2GRAY** and **cv2.COLOR_BGR2HSV**"
   ]
  },
  {
   "cell_type": "code",
   "execution_count": null,
   "metadata": {},
   "outputs": [],
   "source": [
    "bgr_img = img\n",
    "rgb_img = cv2.cvtColor(img, cv2.COLOR_BGR2RGB)\n",
    "gray_img = cv2.cvtColor(img, cv2.COLOR_BGR2GRAY)"
   ]
  },
  {
   "cell_type": "code",
   "execution_count": null,
   "metadata": {},
   "outputs": [],
   "source": [
    "fig = plt.figure(figsize=(15, 10))\n",
    "\n",
    "plt.subplot(1,3,1),plt.imshow(bgr_img)\n",
    "plt.title('BGR'), plt.xticks([]), plt.yticks([])\n",
    "plt.subplot(1,3,2),plt.imshow(rgb_img)\n",
    "plt.title('RGB'), plt.xticks([]), plt.yticks([])\n",
    "plt.subplot(1,3,3),plt.imshow(gray_img, cmap='gray')\n",
    "plt.title('Gray'), plt.xticks([]), plt.yticks([])\n",
    "\n",
    "plt.tight_layout()\n",
    "plt.show()"
   ]
  },
  {
   "cell_type": "markdown",
   "metadata": {
    "extensions": {
     "jupyter_dashboards": {
      "version": 1,
      "views": {
       "grid_default": {
        "col": 8,
        "height": 4,
        "hidden": false,
        "row": 0,
        "width": 4
       },
       "report_default": {}
      }
     }
    }
   },
   "source": [
    "Get basic information about the image like pixel count and shape."
   ]
  },
  {
   "cell_type": "code",
   "execution_count": null,
   "metadata": {
    "extensions": {
     "jupyter_dashboards": {
      "version": 1,
      "views": {
       "grid_default": {
        "col": 0,
        "height": 4,
        "hidden": false,
        "row": 10,
        "width": 4
       },
       "report_default": {}
      }
     }
    }
   },
   "outputs": [],
   "source": [
    "pixels = img.size\n",
    "shape = img.shape\n",
    "\n",
    "print(f\" pixel: {pixels}\")\n",
    "print(f\" shape of image: {shape}\")"
   ]
  },
  {
   "cell_type": "markdown",
   "metadata": {},
   "source": [
    "Get one pixel at specific coordiants"
   ]
  },
  {
   "cell_type": "code",
   "execution_count": null,
   "metadata": {},
   "outputs": [],
   "source": [
    "pixel = img[100,100]\n",
    "print(f\"Pixel color: {pixel}\")"
   ]
  },
  {
   "cell_type": "markdown",
   "metadata": {},
   "source": [
    "Get an ROI, therefor you have to specify the width and height. "
   ]
  },
  {
   "cell_type": "code",
   "execution_count": null,
   "metadata": {},
   "outputs": [],
   "source": [
    "roi = img[180:300,100:350]\n",
    "\n",
    "plot_image(roi)"
   ]
  },
  {
   "cell_type": "markdown",
   "metadata": {},
   "source": [
    "Use **cv2.imshow(winname, image)** to show a image with opencv, this generates a new window.\n",
    " "
   ]
  },
  {
   "cell_type": "code",
   "execution_count": null,
   "metadata": {},
   "outputs": [],
   "source": [
    "cv2.imshow('positive possum', img)"
   ]
  },
  {
   "cell_type": "markdown",
   "metadata": {},
   "source": [
    "This won't work very well with jupyter, thats why we use matplotlib in this tutorial"
   ]
  },
  {
   "cell_type": "code",
   "execution_count": null,
   "metadata": {},
   "outputs": [],
   "source": [
    "cv2.destroyAllWindows()"
   ]
  },
  {
   "cell_type": "markdown",
   "metadata": {},
   "source": [
    " Use **cv2.imwrite(filename, img_to_write)** to save a image "
   ]
  },
  {
   "cell_type": "code",
   "execution_count": null,
   "metadata": {},
   "outputs": [],
   "source": [
    "cv2.imwrite(os.path.join(IMAGE_DIR,'new_img.png'), img)"
   ]
  },
  {
   "cell_type": "markdown",
   "metadata": {},
   "source": [
    "## Drawing functions"
   ]
  },
  {
   "cell_type": "code",
   "execution_count": null,
   "metadata": {},
   "outputs": [],
   "source": [
    "#start point\n",
    "start = (10,10)\n",
    "#end point\n",
    "end = (100, 500)\n",
    "\n",
    "#color in RGB\n",
    "col = (255,0,0)\n",
    "\n",
    "#line width\n",
    "thickness = 5\n",
    "\n",
    "img = cv2.cvtColor(img, cv2.COLOR_BGR2RGB)\n",
    "\n",
    "line_img = img.copy()\n",
    "line_img = cv2.line(line_img,start, end, col,thickness)"
   ]
  },
  {
   "cell_type": "code",
   "execution_count": null,
   "metadata": {},
   "outputs": [],
   "source": [
    "upper_left = (100,100)\n",
    "bottom_right = (300, 300)\n",
    "col = (255,0,0)\n",
    "thickness = 5\n",
    "rect_img = img.copy()\n",
    "rect_img = cv2.rectangle(rect_img,upper_left,bottom_right,col,thickness)"
   ]
  },
  {
   "cell_type": "code",
   "execution_count": null,
   "metadata": {},
   "outputs": [],
   "source": [
    "center_1 = (100,100)\n",
    "center_2 = (300,300)\n",
    "radius = 50\n",
    "col = (255,0,0)\n",
    "thickness_1 = 3\n",
    "\n",
    "#-1 then the figure is closed\n",
    "thickness_2 = -1\n",
    "\n",
    "circle_img = img.copy()\n",
    "circle_img = cv2.circle(circle_img, center_1, radius, col, thickness_1)\n",
    "circle_img = cv2.circle(circle_img, center_2, radius, col, thickness_2)"
   ]
  },
  {
   "cell_type": "code",
   "execution_count": null,
   "metadata": {},
   "outputs": [],
   "source": [
    "plt.figure(figsize=(15, 10))\n",
    "\n",
    "plt.subplot(1,3,1),plt.imshow(line_img)\n",
    "plt.title('Line'), plt.xticks([]), plt.yticks([])\n",
    "plt.subplot(1,3,2),plt.imshow(rect_img)\n",
    "plt.title('Rectangle'), plt.xticks([]), plt.yticks([])\n",
    "plt.subplot(1,3,3),plt.imshow(circle_img)\n",
    "plt.title('Circles'), plt.xticks([]), plt.yticks([])\n",
    "\n",
    "plt.tight_layout()\n",
    "plt.show()"
   ]
  },
  {
   "cell_type": "markdown",
   "metadata": {},
   "source": [
    "## Transformation"
   ]
  },
  {
   "cell_type": "markdown",
   "metadata": {},
   "source": [
    "\n",
    "<img src=\"images\\tf.png\" height=\"400\" width=\"600\" >\n",
    "<cite data-cite=\"Wikipedia\">By Cmglee - Own work, CC BY-SA 3.0, https://commons.wikimedia.org/w/index.php?curid=35180401</cite>\n",
    "\n",
    "For more information see: [Transformation](https://en.wikipedia.org/wiki/Transformation_matrix)"
   ]
  },
  {
   "cell_type": "markdown",
   "metadata": {},
   "source": [
    "### Scaling \n",
    "\n",
    "Scaling is just resizing a image.\n",
    "**cv2.resize(src, dst, dsize, fx, fy, interpolation)**  \n",
    "src = source image  \n",
    "dst = destination image  \n",
    "dsize = output image size, when zero it is computed by scr shape and fx,fy  \n",
    "fx, fy= scale factor for x and y  \n",
    "interpolation = flag for diffrent [interpolation methods](https://docs.opencv.org/3.4.2/da/d54/group__imgproc__transform.html#ga5bb5a1fea74ea38e1a5445ca803ff121)"
   ]
  },
  {
   "cell_type": "code",
   "execution_count": null,
   "metadata": {},
   "outputs": [],
   "source": [
    "resized_img = cv2.resize(img, None,fx=0.5, fy=0.5)"
   ]
  },
  {
   "cell_type": "markdown",
   "metadata": {},
   "source": [
    "### Translation  \n",
    "Use Translation to shift a image in x and/or y direction. Therefor you have to calculate a translation matrix M. \n"
   ]
  },
  {
   "cell_type": "code",
   "execution_count": null,
   "metadata": {},
   "outputs": [],
   "source": [
    "rows,cols, _ = img.shape\n",
    "t_x = 100\n",
    "t_y = 50\n",
    "\n",
    "M = np.float32([[1,0,t_x],[0,1,t_y]])\n",
    "dst = cv2.warpAffine(img,M,(cols,rows))\n",
    "\n",
    "plot_image(dst)"
   ]
  },
  {
   "cell_type": "markdown",
   "metadata": {},
   "source": [
    "### Rotation"
   ]
  },
  {
   "cell_type": "code",
   "execution_count": null,
   "metadata": {},
   "outputs": [],
   "source": [
    "rows, cols, _ = img.shape\n",
    "angle = 45\n",
    "\n",
    "M = cv2.getRotationMatrix2D((cols/2,rows/2),angle,1)\n",
    "dst = cv2.warpAffine(img,M,(cols,rows))\n",
    "\n",
    "plot_image(dst)"
   ]
  },
  {
   "cell_type": "markdown",
   "metadata": {},
   "source": [
    "### Fliping  a image  \n",
    "**cv2.flip(soure_image, flip_code)**  \n",
    "\n",
    "**flip_code = 0** flips around x  \n",
    "**flip_code = 1** flips around y  \n",
    "**flip_code = -1** flips around x and y"
   ]
  },
  {
   "cell_type": "code",
   "execution_count": null,
   "metadata": {},
   "outputs": [],
   "source": [
    "x_flipt= cv2.flip(img, 0)\n",
    "y_flipt= cv2.flip(img, 1)\n",
    "xy_flipt= cv2.flip(img, -1)"
   ]
  },
  {
   "cell_type": "code",
   "execution_count": null,
   "metadata": {},
   "outputs": [],
   "source": [
    "plt.figure(figsize=(15, 10))\n",
    "\n",
    "plt.subplot(1,3,1),plt.imshow(x_flipt)\n",
    "plt.title('X-Flipt'), plt.xticks([]), plt.yticks([])\n",
    "plt.subplot(1,3,2),plt.imshow(y_flipt)\n",
    "plt.title('Y-Flipt'), plt.xticks([]), plt.yticks([])\n",
    "plt.subplot(1,3,3),plt.imshow(xy_flipt)\n",
    "plt.title('XY-Flipt'), plt.xticks([]), plt.yticks([])\n",
    "\n",
    "plt.tight_layout()\n",
    "plt.show()"
   ]
  },
  {
   "cell_type": "markdown",
   "metadata": {},
   "source": [
    "## Transformation\n",
    "For transformation we need three point coordinates from input image and their location in the output image. This points are used as input values for **cv2.getAffineTransfomation(orig_points, out_points)**"
   ]
  },
  {
   "cell_type": "markdown",
   "metadata": {},
   "source": [
    "### affine transformation\n",
    "\n",
    "With affine transformation parallel lines in the scoure image will still be parallel in the output image. The wrapAffine function takes a 3x2 transformation matrix as input. dst = cv2.warpAffine(source_image,transformation_matrix,(img_cols,img_rows))"
   ]
  },
  {
   "cell_type": "code",
   "execution_count": null,
   "metadata": {},
   "outputs": [],
   "source": [
    "rows,cols, _ = img.shape\n",
    "\n",
    "orig_pts = np.float32([[50,50],[200,50],[50,200]])\n",
    "out_pts = np.float32([[10,100],[200,50],[100,250]])\n",
    "\n",
    "M = cv2.getAffineTransform(orig_pts,out_pts)\n",
    "\n",
    "dst = cv2.warpAffine(img,M,(cols,rows))\n",
    "plot_image(dst)"
   ]
  },
  {
   "cell_type": "markdown",
   "metadata": {},
   "source": [
    "### perspective transformation "
   ]
  },
  {
   "cell_type": "code",
   "execution_count": null,
   "metadata": {},
   "outputs": [],
   "source": [
    "rows,cols,ch = img.shape\n",
    "\n",
    "input_points = np.float32([[50,65],[368,52],[28,387],[389,390]])\n",
    "out_points = np.float32([[0,0],[300,0],[0,300],[300,300]])\n",
    "\n",
    "M = cv2.getPerspectiveTransform(input_points,out_points)\n",
    "\n",
    "dst = cv2.warpPerspective(img,M,(300,300))\n",
    "plot_image(dst)"
   ]
  }
 ],
 "metadata": {
  "extensions": {
   "jupyter_dashboards": {
    "activeView": "grid_default",
    "version": 1,
    "views": {
     "grid_default": {
      "cellMargin": 10,
      "defaultCellHeight": 20,
      "maxColumns": 12,
      "name": "grid",
      "type": "grid"
     },
     "report_default": {
      "name": "report",
      "type": "report"
     }
    }
   }
  },
  "kernelspec": {
   "display_name": "Python 3",
   "language": "python",
   "name": "python3"
  },
  "language_info": {
   "codemirror_mode": {
    "name": "ipython",
    "version": 3
   },
   "file_extension": ".py",
   "mimetype": "text/x-python",
   "name": "python",
   "nbconvert_exporter": "python",
   "pygments_lexer": "ipython3",
   "version": "3.6.5"
  }
 },
 "nbformat": 4,
 "nbformat_minor": 2
}
